{
 "cells": [
  {
   "cell_type": "markdown",
   "metadata": {},
   "source": [
    "# Effect of FDA's Calorie Count policy on Restaurant Industry Using NLP"
   ]
  },
  {
   "cell_type": "markdown",
   "metadata": {},
   "source": [
    "## Resources\n",
    "1. [Comparison of pandas with SQL](https://pandas.pydata.org/pandas-docs/version/0.22.0/comparison_with_sql.html)"
   ]
  },
  {
   "cell_type": "markdown",
   "metadata": {},
   "source": [
    "#### Import Packages"
   ]
  },
  {
   "cell_type": "code",
   "execution_count": 1,
   "metadata": {
    "collapsed": true
   },
   "outputs": [],
   "source": [
    "import pandas as pd\n",
    "import nltk\n",
    "import seaborn as sns\n",
    "from collections import defaultdict\n",
    "import matplotlib.pyplot as plt\n",
    "\n",
    "%matplotlib inline"
   ]
  },
  {
   "cell_type": "markdown",
   "metadata": {},
   "source": [
    "#### Data Exploration"
   ]
  },
  {
   "cell_type": "code",
   "execution_count": 3,
   "metadata": {
    "scrolled": true
   },
   "outputs": [],
   "source": [
    "df_2017 = pd.read_csv('./data/restuarant/Annual_Data_2017.csv', encoding = \"ISO-8859-1\")\n",
    "df_2014 = pd.read_csv('./data/restuarant/Annual_Data_2014.csv', encoding = \"ISO-8859-1\")"
   ]
  },
  {
   "cell_type": "code",
   "execution_count": 4,
   "metadata": {
    "collapsed": true
   },
   "outputs": [],
   "source": [
    "#Modify the dataframe\n",
    "\n",
    "df_2017 = df_2017.rename(columns={'Calories_2017': 'Calories'})\n",
    "df_2014 = df_2014.rename(columns={'Calories_2014': 'Calories'})\n",
    "\n",
    "df_2014['year'] = '2014'\n",
    "df_2017['year'] = '2017'"
   ]
  },
  {
   "cell_type": "code",
   "execution_count": 5,
   "metadata": {},
   "outputs": [
    {
     "data": {
      "text/html": [
       "<div>\n",
       "<table border=\"1\" class=\"dataframe\">\n",
       "  <thead>\n",
       "    <tr style=\"text-align: right;\">\n",
       "      <th></th>\n",
       "      <th>Menu_Item_ID</th>\n",
       "      <th>Restaurant</th>\n",
       "      <th>Food_Category</th>\n",
       "      <th>Item_Name_2017</th>\n",
       "      <th>Item_Description_2017</th>\n",
       "      <th>Serving_Size_2017</th>\n",
       "      <th>Serving_Size_text_2017</th>\n",
       "      <th>Serving_Size_Unit_2017</th>\n",
       "      <th>Serving_Size_household_2017</th>\n",
       "      <th>Calories</th>\n",
       "      <th>...</th>\n",
       "      <th>Potassium_text_2017</th>\n",
       "      <th>Carbohydrates_text_2017</th>\n",
       "      <th>Protein_text_2017</th>\n",
       "      <th>Sugar_text_2017</th>\n",
       "      <th>Dietary_Fiber_text_2017</th>\n",
       "      <th>Kids_Meal_2017</th>\n",
       "      <th>Limited_Time_Offer_2017</th>\n",
       "      <th>Regional_2017</th>\n",
       "      <th>Shareable_2017</th>\n",
       "      <th>year</th>\n",
       "    </tr>\n",
       "  </thead>\n",
       "  <tbody>\n",
       "    <tr>\n",
       "      <th>28155</th>\n",
       "      <td>45254</td>\n",
       "      <td>Jersey Mike's Subs</td>\n",
       "      <td>Sandwiches</td>\n",
       "      <td>#17 Jersey Mike's Famous Philly, White Regular</td>\n",
       "      <td>#17 Jersey Mike's Famous Philly w/ Steak, Gril...</td>\n",
       "      <td>397.0</td>\n",
       "      <td>NaN</td>\n",
       "      <td>g</td>\n",
       "      <td>NaN</td>\n",
       "      <td>650.0</td>\n",
       "      <td>...</td>\n",
       "      <td>NaN</td>\n",
       "      <td>NaN</td>\n",
       "      <td>NaN</td>\n",
       "      <td>NaN</td>\n",
       "      <td>NaN</td>\n",
       "      <td>0</td>\n",
       "      <td>0</td>\n",
       "      <td>0</td>\n",
       "      <td>0</td>\n",
       "      <td>2017</td>\n",
       "    </tr>\n",
       "    <tr>\n",
       "      <th>27245</th>\n",
       "      <td>34775</td>\n",
       "      <td>Whataburger</td>\n",
       "      <td>Burgers</td>\n",
       "      <td>Jalapeno &amp; Cheese Whataburger</td>\n",
       "      <td>Jalapeno &amp; Cheese Whataburger on a Large White...</td>\n",
       "      <td>352.0</td>\n",
       "      <td>NaN</td>\n",
       "      <td>g</td>\n",
       "      <td>NaN</td>\n",
       "      <td>680.0</td>\n",
       "      <td>...</td>\n",
       "      <td>NaN</td>\n",
       "      <td>NaN</td>\n",
       "      <td>NaN</td>\n",
       "      <td>NaN</td>\n",
       "      <td>NaN</td>\n",
       "      <td>0</td>\n",
       "      <td>0</td>\n",
       "      <td>0</td>\n",
       "      <td>0</td>\n",
       "      <td>2017</td>\n",
       "    </tr>\n",
       "    <tr>\n",
       "      <th>11215</th>\n",
       "      <td>152790</td>\n",
       "      <td>Dunkin' Donuts</td>\n",
       "      <td>Beverages</td>\n",
       "      <td>Iced Latte, Fudge Brownie Swirl w/ Sugar &amp; Who...</td>\n",
       "      <td>Iced Latte, Fudge Brownie Swirl w/ Sugar &amp; Who...</td>\n",
       "      <td>NaN</td>\n",
       "      <td>NaN</td>\n",
       "      <td>NaN</td>\n",
       "      <td>NaN</td>\n",
       "      <td>NaN</td>\n",
       "      <td>...</td>\n",
       "      <td>NaN</td>\n",
       "      <td>NaN</td>\n",
       "      <td>NaN</td>\n",
       "      <td>NaN</td>\n",
       "      <td>NaN</td>\n",
       "      <td>0</td>\n",
       "      <td>1</td>\n",
       "      <td>0</td>\n",
       "      <td>0</td>\n",
       "      <td>2017</td>\n",
       "    </tr>\n",
       "    <tr>\n",
       "      <th>7912</th>\n",
       "      <td>140650</td>\n",
       "      <td>Perkins</td>\n",
       "      <td>Entrees</td>\n",
       "      <td>Kid's Meal</td>\n",
       "      <td>Kid's Meal w/ Entree, Free Soft Drink, Milk or...</td>\n",
       "      <td>NaN</td>\n",
       "      <td>NaN</td>\n",
       "      <td>NaN</td>\n",
       "      <td>NaN</td>\n",
       "      <td>NaN</td>\n",
       "      <td>...</td>\n",
       "      <td>NaN</td>\n",
       "      <td>NaN</td>\n",
       "      <td>NaN</td>\n",
       "      <td>NaN</td>\n",
       "      <td>NaN</td>\n",
       "      <td>1</td>\n",
       "      <td>0</td>\n",
       "      <td>0</td>\n",
       "      <td>0</td>\n",
       "      <td>2017</td>\n",
       "    </tr>\n",
       "    <tr>\n",
       "      <th>19440</th>\n",
       "      <td>160804</td>\n",
       "      <td>Wawa</td>\n",
       "      <td>Baked Goods</td>\n",
       "      <td>Carrot Cake Muffin</td>\n",
       "      <td>Carrot Cake Muffin, Bakery</td>\n",
       "      <td>NaN</td>\n",
       "      <td>NaN</td>\n",
       "      <td>NaN</td>\n",
       "      <td>NaN</td>\n",
       "      <td>700.0</td>\n",
       "      <td>...</td>\n",
       "      <td>NaN</td>\n",
       "      <td>NaN</td>\n",
       "      <td>NaN</td>\n",
       "      <td>NaN</td>\n",
       "      <td>NaN</td>\n",
       "      <td>0</td>\n",
       "      <td>0</td>\n",
       "      <td>0</td>\n",
       "      <td>0</td>\n",
       "      <td>2017</td>\n",
       "    </tr>\n",
       "  </tbody>\n",
       "</table>\n",
       "<p>5 rows × 47 columns</p>\n",
       "</div>"
      ],
      "text/plain": [
       "       Menu_Item_ID          Restaurant Food_Category  \\\n",
       "28155         45254  Jersey Mike's Subs    Sandwiches   \n",
       "27245         34775         Whataburger       Burgers   \n",
       "11215        152790      Dunkin' Donuts     Beverages   \n",
       "7912         140650             Perkins       Entrees   \n",
       "19440        160804                Wawa   Baked Goods   \n",
       "\n",
       "                                          Item_Name_2017  \\\n",
       "28155     #17 Jersey Mike's Famous Philly, White Regular   \n",
       "27245                      Jalapeno & Cheese Whataburger   \n",
       "11215  Iced Latte, Fudge Brownie Swirl w/ Sugar & Who...   \n",
       "7912                                          Kid's Meal   \n",
       "19440                                 Carrot Cake Muffin   \n",
       "\n",
       "                                   Item_Description_2017  Serving_Size_2017  \\\n",
       "28155  #17 Jersey Mike's Famous Philly w/ Steak, Gril...              397.0   \n",
       "27245  Jalapeno & Cheese Whataburger on a Large White...              352.0   \n",
       "11215  Iced Latte, Fudge Brownie Swirl w/ Sugar & Who...                NaN   \n",
       "7912   Kid's Meal w/ Entree, Free Soft Drink, Milk or...                NaN   \n",
       "19440                         Carrot Cake Muffin, Bakery                NaN   \n",
       "\n",
       "      Serving_Size_text_2017 Serving_Size_Unit_2017  \\\n",
       "28155                    NaN                      g   \n",
       "27245                    NaN                      g   \n",
       "11215                    NaN                    NaN   \n",
       "7912                     NaN                    NaN   \n",
       "19440                    NaN                    NaN   \n",
       "\n",
       "      Serving_Size_household_2017  Calories  ...   Potassium_text_2017  \\\n",
       "28155                         NaN     650.0  ...                   NaN   \n",
       "27245                         NaN     680.0  ...                   NaN   \n",
       "11215                         NaN       NaN  ...                   NaN   \n",
       "7912                          NaN       NaN  ...                   NaN   \n",
       "19440                         NaN     700.0  ...                   NaN   \n",
       "\n",
       "       Carbohydrates_text_2017  Protein_text_2017  Sugar_text_2017  \\\n",
       "28155                      NaN                NaN              NaN   \n",
       "27245                      NaN                NaN              NaN   \n",
       "11215                      NaN                NaN              NaN   \n",
       "7912                       NaN                NaN              NaN   \n",
       "19440                      NaN                NaN              NaN   \n",
       "\n",
       "       Dietary_Fiber_text_2017  Kids_Meal_2017  Limited_Time_Offer_2017  \\\n",
       "28155                      NaN               0                        0   \n",
       "27245                      NaN               0                        0   \n",
       "11215                      NaN               0                        1   \n",
       "7912                       NaN               1                        0   \n",
       "19440                      NaN               0                        0   \n",
       "\n",
       "       Regional_2017  Shareable_2017  year  \n",
       "28155              0               0  2017  \n",
       "27245              0               0  2017  \n",
       "11215              0               0  2017  \n",
       "7912               0               0  2017  \n",
       "19440              0               0  2017  \n",
       "\n",
       "[5 rows x 47 columns]"
      ]
     },
     "execution_count": 5,
     "metadata": {},
     "output_type": "execute_result"
    }
   ],
   "source": [
    "df_2017.sample(5)"
   ]
  },
  {
   "cell_type": "code",
   "execution_count": 6,
   "metadata": {},
   "outputs": [
    {
     "name": "stdout",
     "output_type": "stream",
     "text": [
      "(35099, 47)\n",
      "Index(['Menu_Item_ID', 'Restaurant', 'Food_Category', ' Item_Name_2017',\n",
      "       'Item_Description_2017', 'Serving_Size_2017', 'Serving_Size_text_2017',\n",
      "       'Serving_Size_Unit_2017', 'Serving_Size_household_2017', 'Calories',\n",
      "       'Total_Fat_2017', 'Saturated_Fat_2017', 'Trans_Fat_2017',\n",
      "       'Cholesterol_2017', 'Sodium_2017', 'Potassium_2017',\n",
      "       'Carbohydrates_2017', 'Protein_2017', 'Sugar_2017',\n",
      "       'Dietary_Fiber_2017', 'Calories_100g_2017', 'Total_Fat_100g_2017',\n",
      "       'Saturated_Fat_100g_2017', 'Trans_Fat_100g_2017',\n",
      "       'Cholesterol_100g_2017', 'Sodium_100g_2017', 'Potassium_100g_2017',\n",
      "       'Carbohydrates_100g_2017', 'Protein_100g_2017', 'Sugar_100g_2017',\n",
      "       'Dietary_Fiber_100g_2017', 'Calories_text_2017', 'Total_Fat_text_2017',\n",
      "       'Saturated_Fat_text_2017', 'Trans_Fat_text_2017',\n",
      "       'Cholesterol_text_2017', 'Sodium_text_2017', 'Potassium_text_2017',\n",
      "       'Carbohydrates_text_2017', 'Protein_text_2017', 'Sugar_text_2017',\n",
      "       'Dietary_Fiber_text_2017', 'Kids_Meal_2017', 'Limited_Time_Offer_2017',\n",
      "       'Regional_2017', 'Shareable_2017', 'year'],\n",
      "      dtype='object')\n"
     ]
    }
   ],
   "source": [
    "print(df_2017.shape)\n",
    "print(df_2017.columns)"
   ]
  },
  {
   "cell_type": "code",
   "execution_count": 7,
   "metadata": {},
   "outputs": [
    {
     "data": {
      "text/plain": [
       "array(['Qdoba', 'Quiznos', \"Applebee's\", 'Red Lobster', 'Red Robin',\n",
       "       \"Romano's Macaroni Grill\", 'Round Table Pizza', 'Ruby Tuesday',\n",
       "       'Sbarro', 'Sheetz', 'Sonic', 'Starbucks', 'Dairy Queen',\n",
       "       \"Steak 'N Shake\", 'Subway', \"TGI Friday's\", 'Taco Bell',\n",
       "       'Tim Hortons', \"Arby's\", 'Whataburger', 'Wawa', \"Wendy's\",\n",
       "       'White Castle', 'Wingstop', 'Yard House', \"Zaxby's\",\n",
       "       \"Checker's Drive-In/Rallys\", 'Baskin Robbins', \"Carl's Jr.\",\n",
       "       'Del Taco', 'Einstein Bros', \"Hardee's\", 'Bob Evans',\n",
       "       \"Jason's Deli\", 'Burger King', 'Boston Market',\n",
       "       \"BJ's Restaurant & Brewhouse\", 'Chick-Fil-A', 'Krispy Kreme',\n",
       "       \"Church's Chicken\", 'IHOP', \"Long John Silver's\", 'Bojangles',\n",
       "       'El Pollo Loco', \"Friendly's\", 'KFC', 'Hooters', '7 Eleven',\n",
       "       'Popeyes', 'Jamba Juice', \"McDonald's\", 'California Pizza Kitchen',\n",
       "       \"Dunkin' Donuts\", \"Culver's\", 'Bonefish Grill', \"Captain D's\",\n",
       "       \"Carrabba's Italian Grill\", 'The Capital Grille', 'Jack in the Box',\n",
       "       \"Auntie Anne's\", \"Ci Ci's Pizza\", \"Denny's\", \"Famous Dave's\",\n",
       "       \"Joe's Crab Shack\", 'Krystal', \"McAlister's Deli\", \"O'Charley's\",\n",
       "       'Olive Garden', 'Outback Steakhouse', 'Panda Express',\n",
       "       \"Papa Murphy's\", \"PF Chang's\", \"Jersey Mike's Subs\", 'Chipotle',\n",
       "       'Chuck E. Cheese', 'Dominos', 'Firehouse Subs', 'Five Guys',\n",
       "       'LongHorn Steakhouse', \"Chili's\", 'On the Border', 'Panera Bread',\n",
       "       'Pizza Hut', \"Papa John's\", \"Frisch's Big Boy\", 'Golden Corral',\n",
       "       'Perkins', \"Moe's Southwest Grill\", 'Noodles & Company',\n",
       "       \"Casey's General Store\", \"Jimmy John's\", 'In-N-Out Burger',\n",
       "       'Little Caesars', \"Marco's Pizza\"], dtype=object)"
      ]
     },
     "execution_count": 7,
     "metadata": {},
     "output_type": "execute_result"
    }
   ],
   "source": [
    "#What are the restaurants\n",
    "df_2017['Restaurant'].unique()"
   ]
  },
  {
   "cell_type": "code",
   "execution_count": 8,
   "metadata": {},
   "outputs": [
    {
     "data": {
      "text/plain": [
       "94"
      ]
     },
     "execution_count": 8,
     "metadata": {},
     "output_type": "execute_result"
    }
   ],
   "source": [
    "#How many restaurant are we dealing here?\n",
    "len(set(df_2017['Restaurant']))"
   ]
  },
  {
   "cell_type": "code",
   "execution_count": 9,
   "metadata": {},
   "outputs": [
    {
     "data": {
      "text/plain": [
       "array(['Entrees', 'Sandwiches', 'Toppings & Ingredients', 'Soup',\n",
       "       'Appetizers & Sides', 'Beverages', 'Salads', 'Burgers',\n",
       "       'Fried Potatoes', 'Desserts', 'Pizza', 'Baked Goods'], dtype=object)"
      ]
     },
     "execution_count": 9,
     "metadata": {},
     "output_type": "execute_result"
    }
   ],
   "source": [
    "#What categories the dishes/menu item comes under?\n",
    "df_2017['Food_Category'].unique()"
   ]
  },
  {
   "cell_type": "markdown",
   "metadata": {},
   "source": [
    "## Merging the two dataframes for comparison\n",
    "\n",
    "Outer Join: (UNION in SQL terms)"
   ]
  },
  {
   "cell_type": "code",
   "execution_count": 10,
   "metadata": {
    "collapsed": true
   },
   "outputs": [],
   "source": [
    "verticalStack = pd.concat([df_2017[['Menu_Item_ID', 'Calories', 'Food_Category', 'year']], df_2014[['Menu_Item_ID', 'Calories', 'Food_Category', 'year']]])"
   ]
  },
  {
   "cell_type": "code",
   "execution_count": 11,
   "metadata": {},
   "outputs": [
    {
     "data": {
      "text/html": [
       "<div>\n",
       "<table border=\"1\" class=\"dataframe\">\n",
       "  <thead>\n",
       "    <tr style=\"text-align: right;\">\n",
       "      <th></th>\n",
       "      <th>Menu_Item_ID</th>\n",
       "      <th>Calories</th>\n",
       "      <th>Food_Category</th>\n",
       "      <th>year</th>\n",
       "    </tr>\n",
       "  </thead>\n",
       "  <tbody>\n",
       "    <tr>\n",
       "      <th>5357</th>\n",
       "      <td>19065</td>\n",
       "      <td>630.0</td>\n",
       "      <td>Desserts</td>\n",
       "      <td>2014</td>\n",
       "    </tr>\n",
       "    <tr>\n",
       "      <th>12378</th>\n",
       "      <td>153933</td>\n",
       "      <td>110.0</td>\n",
       "      <td>Beverages</td>\n",
       "      <td>2017</td>\n",
       "    </tr>\n",
       "    <tr>\n",
       "      <th>23328</th>\n",
       "      <td>23971</td>\n",
       "      <td>370.0</td>\n",
       "      <td>Sandwiches</td>\n",
       "      <td>2017</td>\n",
       "    </tr>\n",
       "    <tr>\n",
       "      <th>14144</th>\n",
       "      <td>34456</td>\n",
       "      <td>NaN</td>\n",
       "      <td>Burgers</td>\n",
       "      <td>2014</td>\n",
       "    </tr>\n",
       "    <tr>\n",
       "      <th>21417</th>\n",
       "      <td>18487</td>\n",
       "      <td>0.0</td>\n",
       "      <td>Beverages</td>\n",
       "      <td>2017</td>\n",
       "    </tr>\n",
       "  </tbody>\n",
       "</table>\n",
       "</div>"
      ],
      "text/plain": [
       "       Menu_Item_ID  Calories Food_Category  year\n",
       "5357          19065     630.0      Desserts  2014\n",
       "12378        153933     110.0     Beverages  2017\n",
       "23328         23971     370.0    Sandwiches  2017\n",
       "14144         34456       NaN       Burgers  2014\n",
       "21417         18487       0.0     Beverages  2017"
      ]
     },
     "execution_count": 11,
     "metadata": {},
     "output_type": "execute_result"
    }
   ],
   "source": [
    "#only on 4 columns\n",
    "verticalStack.sample(5)"
   ]
  },
  {
   "cell_type": "code",
   "execution_count": 12,
   "metadata": {},
   "outputs": [
    {
     "data": {
      "text/plain": [
       "(60377, 4)"
      ]
     },
     "execution_count": 12,
     "metadata": {},
     "output_type": "execute_result"
    }
   ],
   "source": [
    "verticalStack.shape"
   ]
  },
  {
   "cell_type": "markdown",
   "metadata": {},
   "source": [
    "## Comparison using Box Plot:\n",
    "\n",
    "Helpful for compare different datasets!\n",
    "\n",
    "Seaborn builds on top of Matplotlib and introduces additional plot types!\n",
    "Also comparted to matplotlib, it's Visually appealing!"
   ]
  },
  {
   "cell_type": "code",
   "execution_count": 13,
   "metadata": {},
   "outputs": [
    {
     "data": {
      "image/png": "[encoded data removed]",
      "text/plain": [
       "<matplotlib.figure.Figure at 0x7ff7cd8c2208>"
      ]
     },
     "metadata": {},
     "output_type": "display_data"
    }
   ],
   "source": [
    "fig, ax = plt.subplots(sharex=True,sharey=True,figsize=(15,10))\n",
    "plt.title('Calories by Food Category')\n",
    "ax = sns.boxplot(x=\"Food_Category\", y=\"Calories\", hue=\"year\", data=verticalStack, showfliers = False)  \n",
    "plt.show()"
   ]
  },
  {
   "cell_type": "markdown",
   "metadata": {},
   "source": [
    "### What can we infer from the box plot:\n",
    "1. They look almost the same\n",
    "2. Average(Median), spread(IQR NOT Range!)\n",
    "\n",
    "Note:*2018 data would be much better comparison see the effect of calorie variation*"
   ]
  },
  {
   "cell_type": "markdown",
   "metadata": {},
   "source": [
    "## Data Explore on 2017!"
   ]
  },
  {
   "cell_type": "code",
   "execution_count": 14,
   "metadata": {},
   "outputs": [
    {
     "data": {
      "text/html": [
       "<div>\n",
       "<table border=\"1\" class=\"dataframe\">\n",
       "  <thead>\n",
       "    <tr style=\"text-align: right;\">\n",
       "      <th></th>\n",
       "      <th>Menu_Item_ID</th>\n",
       "      <th>Restaurant</th>\n",
       "      <th>Food_Category</th>\n",
       "      <th>Item_Name_2017</th>\n",
       "      <th>Item_Description_2017</th>\n",
       "      <th>Serving_Size_2017</th>\n",
       "      <th>Serving_Size_text_2017</th>\n",
       "      <th>Serving_Size_Unit_2017</th>\n",
       "      <th>Serving_Size_household_2017</th>\n",
       "      <th>Calories</th>\n",
       "      <th>...</th>\n",
       "      <th>Potassium_text_2017</th>\n",
       "      <th>Carbohydrates_text_2017</th>\n",
       "      <th>Protein_text_2017</th>\n",
       "      <th>Sugar_text_2017</th>\n",
       "      <th>Dietary_Fiber_text_2017</th>\n",
       "      <th>Kids_Meal_2017</th>\n",
       "      <th>Limited_Time_Offer_2017</th>\n",
       "      <th>Regional_2017</th>\n",
       "      <th>Shareable_2017</th>\n",
       "      <th>year</th>\n",
       "    </tr>\n",
       "  </thead>\n",
       "  <tbody>\n",
       "    <tr>\n",
       "      <th>437</th>\n",
       "      <td>101669</td>\n",
       "      <td>Starbucks</td>\n",
       "      <td>Beverages</td>\n",
       "      <td>Iced Caffe Latte w/ Coconut, Grande</td>\n",
       "      <td>Iced Caffe Latte w/ Coconut Milk, Brewed Espre...</td>\n",
       "      <td>16.0</td>\n",
       "      <td>NaN</td>\n",
       "      <td>fl oz</td>\n",
       "      <td>NaN</td>\n",
       "      <td>90.0</td>\n",
       "      <td>...</td>\n",
       "      <td>NaN</td>\n",
       "      <td>NaN</td>\n",
       "      <td>NaN</td>\n",
       "      <td>NaN</td>\n",
       "      <td>NaN</td>\n",
       "      <td>0</td>\n",
       "      <td>0</td>\n",
       "      <td>0</td>\n",
       "      <td>0</td>\n",
       "      <td>2017</td>\n",
       "    </tr>\n",
       "  </tbody>\n",
       "</table>\n",
       "<p>1 rows × 47 columns</p>\n",
       "</div>"
      ],
      "text/plain": [
       "     Menu_Item_ID Restaurant Food_Category  \\\n",
       "437        101669  Starbucks     Beverages   \n",
       "\n",
       "                          Item_Name_2017  \\\n",
       "437  Iced Caffe Latte w/ Coconut, Grande   \n",
       "\n",
       "                                 Item_Description_2017  Serving_Size_2017  \\\n",
       "437  Iced Caffe Latte w/ Coconut Milk, Brewed Espre...               16.0   \n",
       "\n",
       "    Serving_Size_text_2017 Serving_Size_Unit_2017 Serving_Size_household_2017  \\\n",
       "437                    NaN                  fl oz                         NaN   \n",
       "\n",
       "     Calories  ...   Potassium_text_2017  Carbohydrates_text_2017  \\\n",
       "437      90.0  ...                   NaN                      NaN   \n",
       "\n",
       "     Protein_text_2017  Sugar_text_2017  Dietary_Fiber_text_2017  \\\n",
       "437                NaN              NaN                      NaN   \n",
       "\n",
       "     Kids_Meal_2017  Limited_Time_Offer_2017  Regional_2017  Shareable_2017  \\\n",
       "437               0                        0              0               0   \n",
       "\n",
       "     year  \n",
       "437  2017  \n",
       "\n",
       "[1 rows x 47 columns]"
      ]
     },
     "execution_count": 14,
     "metadata": {},
     "output_type": "execute_result"
    }
   ],
   "source": [
    " df_2017[(df_2017['Restaurant'] == 'Starbucks') & (df_2017[' Item_Name_2017'] == 'Iced Caffe Latte w/ Coconut, Grande')]\n",
    " \n"
   ]
  },
  {
   "cell_type": "code",
   "execution_count": 15,
   "metadata": {},
   "outputs": [
    {
     "data": {
      "text/html": [
       "<div>\n",
       "<table border=\"1\" class=\"dataframe\">\n",
       "  <thead>\n",
       "    <tr style=\"text-align: right;\">\n",
       "      <th></th>\n",
       "      <th>Menu_Item_ID</th>\n",
       "      <th>Restaurant</th>\n",
       "      <th>Food_Category</th>\n",
       "      <th>Item_Name_2017</th>\n",
       "      <th>Item_Description_2017</th>\n",
       "      <th>Serving_Size_2017</th>\n",
       "      <th>Serving_Size_text_2017</th>\n",
       "      <th>Serving_Size_Unit_2017</th>\n",
       "      <th>Serving_Size_household_2017</th>\n",
       "      <th>Calories</th>\n",
       "      <th>...</th>\n",
       "      <th>Potassium_text_2017</th>\n",
       "      <th>Carbohydrates_text_2017</th>\n",
       "      <th>Protein_text_2017</th>\n",
       "      <th>Sugar_text_2017</th>\n",
       "      <th>Dietary_Fiber_text_2017</th>\n",
       "      <th>Kids_Meal_2017</th>\n",
       "      <th>Limited_Time_Offer_2017</th>\n",
       "      <th>Regional_2017</th>\n",
       "      <th>Shareable_2017</th>\n",
       "      <th>year</th>\n",
       "    </tr>\n",
       "  </thead>\n",
       "  <tbody>\n",
       "    <tr>\n",
       "      <th>32358</th>\n",
       "      <td>90010</td>\n",
       "      <td>7 Eleven</td>\n",
       "      <td>Sandwiches</td>\n",
       "      <td>Chicken Salad Sandwich</td>\n",
       "      <td>Chicken Salad Sandwich on Wheat Bread, Sandwiches, Food</td>\n",
       "      <td>176.0</td>\n",
       "      <td>NaN</td>\n",
       "      <td>g</td>\n",
       "      <td>NaN</td>\n",
       "      <td>400.0</td>\n",
       "      <td>...</td>\n",
       "      <td>NaN</td>\n",
       "      <td>NaN</td>\n",
       "      <td>NaN</td>\n",
       "      <td>NaN</td>\n",
       "      <td>NaN</td>\n",
       "      <td>0</td>\n",
       "      <td>0</td>\n",
       "      <td>0</td>\n",
       "      <td>0</td>\n",
       "      <td>2017</td>\n",
       "    </tr>\n",
       "  </tbody>\n",
       "</table>\n",
       "<p>1 rows × 47 columns</p>\n",
       "</div>"
      ],
      "text/plain": [
       "       Menu_Item_ID Restaurant Food_Category          Item_Name_2017  \\\n",
       "32358  90010         7 Eleven   Sandwiches    Chicken Salad Sandwich   \n",
       "\n",
       "                                         Item_Description_2017  \\\n",
       "32358  Chicken Salad Sandwich on Wheat Bread, Sandwiches, Food   \n",
       "\n",
       "       Serving_Size_2017 Serving_Size_text_2017 Serving_Size_Unit_2017  \\\n",
       "32358  176.0              NaN                    g                       \n",
       "\n",
       "      Serving_Size_household_2017  Calories  ...   Potassium_text_2017  \\\n",
       "32358  NaN                         400.0     ...   NaN                   \n",
       "\n",
       "       Carbohydrates_text_2017  Protein_text_2017  Sugar_text_2017  \\\n",
       "32358  NaN                      NaN                NaN               \n",
       "\n",
       "       Dietary_Fiber_text_2017  Kids_Meal_2017  Limited_Time_Offer_2017  \\\n",
       "32358  NaN                      0               0                         \n",
       "\n",
       "       Regional_2017  Shareable_2017  year  \n",
       "32358  0              0               2017  \n",
       "\n",
       "[1 rows x 47 columns]"
      ]
     },
     "execution_count": 15,
     "metadata": {},
     "output_type": "execute_result"
    }
   ],
   "source": [
    "pd.set_option('display.max_colwidth', -1)# to show the complete, non-truncated text data for each element of dataframe\n",
    "\n",
    "df_2017[(df_2017['Restaurant'] == '7 Eleven') & (df_2017[' Item_Name_2017'] == 'Chicken Salad Sandwich')]"
   ]
  },
  {
   "cell_type": "markdown",
   "metadata": {},
   "source": [
    "#### Pandas Groupby and barPlot"
   ]
  },
  {
   "cell_type": "code",
   "execution_count": 16,
   "metadata": {},
   "outputs": [
    {
     "data": {
      "image/png": "[encoded data removed]",
      "text/plain": [
       "<matplotlib.figure.Figure at 0x7ff7cd05d6d8>"
      ]
     },
     "metadata": {},
     "output_type": "display_data"
    }
   ],
   "source": [
    "#https://pandas.pydata.org/pandas-docs/stable/generated/pandas.DataFrame.plot.html\n",
    "df_2017.groupby('Restaurant').Calories.mean().plot(figsize = (30,30),fontsize=(10),kind = 'bar',rot=90)\n",
    "plt.xlabel('Restaurant(X axis) vs Calories(Y axis)')\n",
    "plt.show()\n"
   ]
  },
  {
   "cell_type": "markdown",
   "metadata": {},
   "source": [
    "### High Caloried restaurants"
   ]
  },
  {
   "cell_type": "code",
   "execution_count": 17,
   "metadata": {},
   "outputs": [
    {
     "data": {
      "text/html": [
       "<div>\n",
       "<table border=\"1\" class=\"dataframe\">\n",
       "  <thead>\n",
       "    <tr style=\"text-align: right;\">\n",
       "      <th></th>\n",
       "      <th>Restaurant</th>\n",
       "      <th>Calories</th>\n",
       "    </tr>\n",
       "  </thead>\n",
       "  <tbody>\n",
       "    <tr>\n",
       "      <th>50</th>\n",
       "      <td>Little Caesars</td>\n",
       "      <td>1346.428571</td>\n",
       "    </tr>\n",
       "    <tr>\n",
       "      <th>38</th>\n",
       "      <td>Hooters</td>\n",
       "      <td>1081.875000</td>\n",
       "    </tr>\n",
       "    <tr>\n",
       "      <th>77</th>\n",
       "      <td>Sbarro</td>\n",
       "      <td>1076.140351</td>\n",
       "    </tr>\n",
       "    <tr>\n",
       "      <th>31</th>\n",
       "      <td>Famous Dave's</td>\n",
       "      <td>1003.376855</td>\n",
       "    </tr>\n",
       "    <tr>\n",
       "      <th>58</th>\n",
       "      <td>O'Charley's</td>\n",
       "      <td>909.473684</td>\n",
       "    </tr>\n",
       "    <tr>\n",
       "      <th>74</th>\n",
       "      <td>Romano's Macaroni Grill</td>\n",
       "      <td>836.320000</td>\n",
       "    </tr>\n",
       "    <tr>\n",
       "      <th>92</th>\n",
       "      <td>Yard House</td>\n",
       "      <td>775.042017</td>\n",
       "    </tr>\n",
       "    <tr>\n",
       "      <th>46</th>\n",
       "      <td>Joe's Crab Shack</td>\n",
       "      <td>757.593985</td>\n",
       "    </tr>\n",
       "    <tr>\n",
       "      <th>34</th>\n",
       "      <td>Friendly's</td>\n",
       "      <td>725.766784</td>\n",
       "    </tr>\n",
       "    <tr>\n",
       "      <th>44</th>\n",
       "      <td>Jersey Mike's Subs</td>\n",
       "      <td>618.183442</td>\n",
       "    </tr>\n",
       "  </tbody>\n",
       "</table>\n",
       "</div>"
      ],
      "text/plain": [
       "                 Restaurant     Calories\n",
       "50  Little Caesars           1346.428571\n",
       "38  Hooters                  1081.875000\n",
       "77  Sbarro                   1076.140351\n",
       "31  Famous Dave's            1003.376855\n",
       "58  O'Charley's              909.473684 \n",
       "74  Romano's Macaroni Grill  836.320000 \n",
       "92  Yard House               775.042017 \n",
       "46  Joe's Crab Shack         757.593985 \n",
       "34  Friendly's               725.766784 \n",
       "44  Jersey Mike's Subs       618.183442 "
      ]
     },
     "execution_count": 17,
     "metadata": {},
     "output_type": "execute_result"
    }
   ],
   "source": [
    "#Top 10\n",
    "df_new = df_2017.groupby('Restaurant').Calories.mean().reset_index()\n",
    "df_new.sort_values('Calories', ascending = False).head(10)"
   ]
  },
  {
   "cell_type": "code",
   "execution_count": 18,
   "metadata": {
    "collapsed": true
   },
   "outputs": [],
   "source": [
    "# df_2017.groupby('Restaurant').Calories.agg(['count', 'max', 'min', 'mean'])"
   ]
  },
  {
   "cell_type": "code",
   "execution_count": 19,
   "metadata": {
    "collapsed": true
   },
   "outputs": [],
   "source": [
    "\n",
    "# df_2017.groupby('Restaurant').Calories.count().plot(kind = 'hist')\n",
    "# plt.ylabel('Number of Restaurants')\n",
    "# plt.xlabel('Net Calorie Count(cal)')\n",
    "# plt.show()"
   ]
  },
  {
   "cell_type": "markdown",
   "metadata": {},
   "source": [
    "## Identifying the The product that gets  affected through Bigrams\n",
    "\n",
    "More about [NLP Ngrams](https://en.wikipedia.org/wiki/N-gram)"
   ]
  },
  {
   "cell_type": "code",
   "execution_count": 20,
   "metadata": {
    "collapsed": true
   },
   "outputs": [],
   "source": [
    "#subset to our dataframe choice!\n",
    "df_ourchoice = df_2017[(df_2017['Restaurant'] == 'Starbucks')]"
   ]
  },
  {
   "cell_type": "code",
   "execution_count": 21,
   "metadata": {},
   "outputs": [
    {
     "data": {
      "text/plain": [
       "('Devils Food Doughnut', 101541)"
      ]
     },
     "execution_count": 21,
     "metadata": {},
     "output_type": "execute_result"
    }
   ],
   "source": [
    "#Tuple with itemname and menu id\n",
    "itemName_id_tuple = list(zip(df_ourchoice[' Item_Name_2017'], df_ourchoice['Menu_Item_ID']))\n",
    "itemName_id_tuple[0]"
   ]
  },
  {
   "cell_type": "code",
   "execution_count": 22,
   "metadata": {
    "collapsed": true
   },
   "outputs": [],
   "source": [
    "def WrapperBigramsIds(itemName_id_tuple ):\n",
    "    \"\"\"\n",
    "    Collects itemname and its respective Menu Id from the input tuple and output a \n",
    "    list of bigram occurances with their menu Id.\n",
    "    \n",
    "    input:\n",
    "    itemname_id_tuple - list of tuples with item name and its Menu Id\n",
    "    \n",
    "    return:\n",
    "    bigram_dict - dictionary with bigram name as the key and list of IDs as value\n",
    "    \"\"\"\n",
    "    bigram_dict = defaultdict(list)\n",
    "    text = []\n",
    "    for item_name, idx in itemName_id_tuple:\n",
    "        text.append(item_name)\n",
    "        bigrms = list(nltk.bigrams(item_name.split()))\n",
    "        for bigrm in bigrms:\n",
    "            joined_bigram = \" \".join(bigrm)\n",
    "            bigram_dict[joined_bigram].append(idx)\n",
    "    return bigram_dict"
   ]
  },
  {
   "cell_type": "code",
   "execution_count": 23,
   "metadata": {
    "scrolled": true
   },
   "outputs": [
    {
     "data": {
      "text/plain": [
       "[101590,\n",
       " 101591,\n",
       " 101592,\n",
       " 101593,\n",
       " 101678,\n",
       " 101679,\n",
       " 101680,\n",
       " 158542,\n",
       " 158543,\n",
       " 158544,\n",
       " 158545,\n",
       " 158700,\n",
       " 158701,\n",
       " 158702,\n",
       " 159722,\n",
       " 159736,\n",
       " 159754,\n",
       " 159761,\n",
       " 159775,\n",
       " 159801,\n",
       " 159829,\n",
       " 159842,\n",
       " 159874,\n",
       " 159893,\n",
       " 159897,\n",
       " 159964,\n",
       " 160017,\n",
       " 160049,\n",
       " 160073,\n",
       " 23454,\n",
       " 23463,\n",
       " 33215,\n",
       " 33216,\n",
       " 33217,\n",
       " 33218,\n",
       " 33219,\n",
       " 33220,\n",
       " 33221,\n",
       " 33545,\n",
       " 33546,\n",
       " 33547,\n",
       " 33548,\n",
       " 33549,\n",
       " 33550,\n",
       " 33551,\n",
       " 33552,\n",
       " 33613,\n",
       " 33614,\n",
       " 33615,\n",
       " 33616,\n",
       " 33617,\n",
       " 33618,\n",
       " 33619,\n",
       " 33620,\n",
       " 33621,\n",
       " 33622,\n",
       " 33623]"
      ]
     },
     "execution_count": 23,
     "metadata": {},
     "output_type": "execute_result"
    }
   ],
   "source": [
    "bigram_dict = wrapper_bigramsIds(itemName_id_tuple )\n",
    "bigram_dict['Caramel Macchiato']\n",
    "# bigram_dict[0]"
   ]
  },
  {
   "cell_type": "code",
   "execution_count": 24,
   "metadata": {
    "collapsed": true
   },
   "outputs": [],
   "source": [
    "def recommender_list(user_choice):\n",
    "    \"\"\"\n",
    "    Builds a recommender list based on the user_choice input from user and returns\n",
    "    a recommended list of food options for the user.\n",
    "    \n",
    "    input:\n",
    "    user_choice - string bigram input from user.\n",
    "    \n",
    "    return: returns a list of tuples with itemname and calorie content value.\n",
    "    \"\"\"\n",
    "    choice_lst = []\n",
    "    item_list = []\n",
    "    calorie_list = []\n",
    "\n",
    "    for idx in bigram_dict[user_choice]:\n",
    "        name = df_ourchoice[df_ourchoice['Menu_Item_ID'] == idx][' Item_Name_2017'].tolist()\n",
    "        cal = df_ourchoice[df_ourchoice['Menu_Item_ID'] == idx]['Calories']\n",
    "\n",
    "        item_list.append(name[0])\n",
    "        calorie_list.append(float(cal))\n",
    "\n",
    "    return list(zip(item_list,calorie_list))"
   ]
  },
  {
   "cell_type": "markdown",
   "metadata": {},
   "source": [
    "## Example\n",
    "I want to have is a **Mocha Frappuccino** @ **Starbucks**"
   ]
  },
  {
   "cell_type": "code",
   "execution_count": 25,
   "metadata": {},
   "outputs": [
    {
     "name": "stdout",
     "output_type": "stream",
     "text": [
      "Help on function recommender_list in module __main__:\n",
      "\n",
      "recommender_list(user_choice)\n",
      "    Builds a recommender list based on the user_choice input from user and returns\n",
      "    a recommended list of food options for the user.\n",
      "    \n",
      "    input:\n",
      "    user_choice - string bigram input from user.\n",
      "    \n",
      "    return: returns a list of tuples with itemname and calorie content value.\n",
      "\n"
     ]
    }
   ],
   "source": [
    "help(recommender_list)"
   ]
  },
  {
   "cell_type": "code",
   "execution_count": 26,
   "metadata": {
    "collapsed": true
   },
   "outputs": [],
   "source": [
    "choice_lst = recommender_list('Mocha Frappuccino')\n",
    "from random import shuffle\n",
    "shuffle(choice_lst)"
   ]
  },
  {
   "cell_type": "code",
   "execution_count": 27,
   "metadata": {},
   "outputs": [
    {
     "data": {
      "text/plain": [
       "194"
      ]
     },
     "execution_count": 27,
     "metadata": {},
     "output_type": "execute_result"
    }
   ],
   "source": [
    "len(choice_lst)"
   ]
  },
  {
   "cell_type": "code",
   "execution_count": 28,
   "metadata": {},
   "outputs": [
    {
     "data": {
      "text/plain": [
       "[('Peppermint Mocha Frappuccino Blended Beverage w/ Almond Milk, Grande',\n",
       "  270.0),\n",
       " ('Peppermint Mocha Frappuccino Blended Creme w/ Whole Milk & Whipped Cream, Venti, 24 oz',\n",
       "  500.0),\n",
       " ('Peppermint Mocha Frappuccino Blended Beverage, Tall, 12 oz', 220.0),\n",
       " ('Peppermint White Chocolate Mocha Frappuccino Blended Creme w/ Coconut Milk & Whipped Cream, Grande, 24 oz',\n",
       "  550.0),\n",
       " ('White Chocolate Mocha Frappuccino Blended Coffee w/ Almond Milk, Tall, 12 oz',\n",
       "  190.0),\n",
       " ('Peppermint Mocha Frappuccino Blended Creme w/ Soy Milk, Venti Iced', 360.0),\n",
       " ('Mocha Frappuccino Blended Coffee w/ Coconut, Venti Iced', 360.0),\n",
       " ('Mocha Frappuccino Blended Coffee w/ Nonfat Milk, Grande', 270.0),\n",
       " ('White Chocolate Mocha Frappuccino Blended Coffee w/ Whole Milk, Grande',\n",
       "  300.0),\n",
       " ('Mocha Frappuccino Blended Coffee w/ Coconut & Whipped Cream, Tall', 270.0),\n",
       " ('Mocha Frappuccino Blended Coffee w/ Almond Milk, 24 oz', 340.0),\n",
       " ('Peppermint Mocha Frappuccino Blended Creme w/ Nonfat Milk & Whipped Cream, 24 oz',\n",
       "  440.0),\n",
       " ('Peppermint Mocha Frappuccino Blended Beverage w/ Soy Milk & Whipped Cream, Venti, 24 oz',\n",
       "  550.0),\n",
       " ('Peppermint Mocha Frappuccino Blended Beverage w/ Soy Milk USA, 12 oz',\n",
       "  230.0),\n",
       " ('Peppermint Mocha Frappuccino Blended Beverage w/ Whipped Cream, Grande, 16 oz',\n",
       "  410.0),\n",
       " ('Peppermint White Chocolate Mocha Frappuccino Blended Beverage w/ Almond Milk & Whipped Cream, Venti Iced',\n",
       "  530.0),\n",
       " ('White Chocolate Mocha Frappuccino Blended Coffee w/ 2% Milk & Whipped Cream, Grande',\n",
       "  410.0),\n",
       " ('Peppermint Mocha Frappuccino Blended Creme w/ Nonfat Milk, Grande', 250.0),\n",
       " ('Peppermint White Chocolate Mocha Frappuccino Blended Creme w/ Nonfat Milk, Tall, 12 oz',\n",
       "  240.0),\n",
       " ('White Chocolate Mocha Frappuccino Blended Coffee w/ Nonfat Milk, Tall',\n",
       "  190.0),\n",
       " ('White Chocolate Mocha Frappuccino Blended Coffee w/ 2% Milk, Grande',\n",
       "  290.0),\n",
       " ('Peppermint Mocha Frappuccino Blended Creme w/ USA Soy Milk, 12 oz', 190.0),\n",
       " ('Mocha Frappuccino Blended Coffee w/ Whole Milk, Grande', 300.0),\n",
       " ('Peppermint Mocha Frappuccino Blended Creme w/ Soy Milk & Whipped Cream, Tall, 12 oz',\n",
       "  280.0),\n",
       " ('Peppermint Mocha Frappuccino Blended Creme w/ Soy Milk, Grande', 270.0),\n",
       " ('Peppermint White Chocolate Mocha Frappuccino Blended Creme w/ Soy Milk, Grande, 16 oz',\n",
       "  360.0),\n",
       " ('Peppermint Mocha Frappuccino Blended Creme w/ 2% Milk & Whipped Cream, 12 oz',\n",
       "  280.0),\n",
       " ('Mocha Frappuccino Blended Coffee w/ Soy Milk, Grande', 290.0),\n",
       " ('Starbucks Bottled Mocha Frappuccino Coffee Drink, 9.5 oz', 300.0),\n",
       " ('Peppermint Mocha Frappuccino Blended Beverage w/ Coconut Milk & Whipped Cream, 16 oz',\n",
       "  410.0),\n",
       " ('Peppermint Mocha Frappuccino Blended Creme w/ Nonfat Milk, Venti, 24 oz',\n",
       "  320.0),\n",
       " ('White Chocolate Mocha Frappuccino Blended Coffee w/ Nonfat Milk, Venti Iced',\n",
       "  380.0),\n",
       " ('Mocha Frappuccino Blended Coffee w/ Whipped Cream, Grande, 16 oz', 390.0),\n",
       " ('Peppermint White Chocolate Mocha Frappuccino Blended Creme w/ Soy Milk & Whipped Cream, Tall, 12 oz',\n",
       "  330.0),\n",
       " ('Mocha Frappuccino Blended Coffee w/ Whole Milk & Whipped Cream, Grande',\n",
       "  410.0),\n",
       " ('Mocha Frappuccino Blended Coffee w/ Nonfat Milk & Whipped Cream, Grande',\n",
       "  390.0),\n",
       " ('Peppermint White Chocolate Mocha Frappuccino Blended Beverage w/ Soy Milk USA, 24 oz',\n",
       "  580.0),\n",
       " ('White Chocolate Mocha Frappuccino Blended Coffee w/ Whole Milk, Venti Iced',\n",
       "  420.0),\n",
       " ('Peppermint White Chocolate Mocha Frappuccino Blended Creme w/ Coconut Milk & Whipped Cream, Tall, 12 oz',\n",
       "  320.0),\n",
       " ('White Chocolate Mocha Frappuccino Blended Coffee w/ Soy Milk, Tall', 210.0),\n",
       " ('Peppermint Mocha Frappuccino Blended Beverage w/ 2% Milk & Whipped Cream, Grande',\n",
       "  420.0),\n",
       " ('Peppermint Mocha Frappuccino Blended Beverage w/ 2% Milk & Whipped Cream, 12 oz',\n",
       "  320.0),\n",
       " ('Mocha Frappuccino Blended Coffee w/ 2% Milk & Whipped Cream, Grande',\n",
       "  400.0),\n",
       " ('Peppermint Mocha Frappuccino Blended Beverage w/ Almond Milk, Venti Iced',\n",
       "  380.0),\n",
       " ('Peppermint White Chocolate Mocha Frappuccino Blended Creme w/ Nonfat Milk, Venti, 24 oz',\n",
       "  440.0),\n",
       " ('White Chocolate Mocha Frappuccino Blended Coffee w/ Soy Milk & Whipped Cream, Tall',\n",
       "  290.0),\n",
       " ('White Chocolate Mocha Frappuccino Blended Coffee w/ Soy Milk & Whipped Cream, Venti Iced',\n",
       "  520.0),\n",
       " ('Peppermint Mocha Frappuccino Blended Creme w/ Nonfat Milk & Whipped Cream, Grande',\n",
       "  370.0),\n",
       " ('Peppermint White Chocolate Mocha Frappuccino Blended Beverage w/ Whole Milk & Whipped Cream, Venti Iced',\n",
       "  590.0),\n",
       " ('Peppermint White Chocolate Mocha Frappuccino Blended Beverage w/ 2% Milk, Venti Iced',\n",
       "  460.0),\n",
       " ('Peppermint Mocha Frappuccino Blended Creme w/ Nonfat Milk, Tall, 12 oz',\n",
       "  170.0),\n",
       " ('Peppermint Mocha Frappuccino Blended Beverage w/ Soy Milk, Venti Iced',\n",
       "  420.0),\n",
       " ('White Chocolate Mocha Frappuccino Blended Coffee w/ 2% Milk & Whipped Cream, Venti Iced',\n",
       "  510.0),\n",
       " ('White Chocolate Mocha Frappuccino Blended Coffee w/ Soy Milk, Venti Iced',\n",
       "  400.0),\n",
       " ('Peppermint Mocha Frappuccino Blended Beverage w/ Coconut Milk, Venti Iced',\n",
       "  390.0),\n",
       " ('Peppermint White Chocolate Mocha Frappuccino Blended Creme w/ 2% Milk & Whipped Cream, Tall, 12 oz',\n",
       "  330.0),\n",
       " ('Peppermint Mocha Frappuccino Blended Beverage w/ Coconut Milk & Whipped Cream, Venti Iced',\n",
       "  520.0),\n",
       " ('White Chocolate Mocha Frappuccino Blended Coffee w/ Whole Milk & Whipped Cream, Grande',\n",
       "  520.0),\n",
       " ('Peppermint Mocha Frappuccino Blended Beverage w/ Soy Milk & Whipped Cream, 16 oz',\n",
       "  420.0),\n",
       " ('Peppermint White Chocolate Mocha Frappuccino Blended Beverage w/ Coconut Milk & Whipped Cream, Grande',\n",
       "  460.0),\n",
       " ('Mocha Frappuccino Blended Coffee w/ Soy Milk & Whipped Cream, Venti Iced',\n",
       "  500.0),\n",
       " ('Mocha Frappuccino Blended Coffee w/ Whole Milk & Whipped Cream, Tall',\n",
       "  290.0),\n",
       " ('Peppermint White Chocolate Mocha Frappuccino Blended Creme w/ Whole Milk, Tall, 12 oz',\n",
       "  260.0),\n",
       " ('Peppermint Mocha Frappuccino Blended Creme w/ Almond Milk & Whipped Cream, Venti, 24 oz',\n",
       "  420.0),\n",
       " ('Peppermint Mocha Frappuccino Blended Beverage w/ Soy Milk, Grande, 16 oz',\n",
       "  300.0),\n",
       " ('Peppermint White Chocolate Mocha Frappuccino Blended Creme w/ Whole Milk, Grande, 16 oz',\n",
       "  370.0),\n",
       " ('Peppermint Mocha Frappuccino Blended Beverage w/ Whole Milk, Grande, 16 oz',\n",
       "  310.0),\n",
       " ('Peppermint White Chocolate Mocha Frappuccino Blended Beverage w/ Nonfat Milk & Whipped Cream, Tall',\n",
       "  320.0),\n",
       " ('Peppermint Mocha Frappuccino Blended Beverage w/ Almond Milk & Whipped Cream, 12 oz',\n",
       "  290.0),\n",
       " ('Peppermint White Chocolate Mocha Frappuccino Blended Beverage w/ 2% Milk, 12 oz',\n",
       "  250.0),\n",
       " ('White Chocolate Mocha Frappuccino Blended Coffee w/ Almond Milk & Whipped Cream, Tall, 12 oz',\n",
       "  380.0),\n",
       " ('White Chocolate Mocha Frappuccino Blended Coffee w/ Whole Milk & Whipped Cream, Venti Iced',\n",
       "  530.0),\n",
       " ('Peppermint Mocha Frappuccino Blended Creme w/ Coconut Milk, Tall, 12 oz',\n",
       "  260.0),\n",
       " ('Peppermint Mocha Frappuccino Blended Creme w/ 2% Milk, Grande', 270.0),\n",
       " ('White Chocolate Mocha Frappuccino Blended Coffee w/ Almond Milk & Whipped Cream, Venti, 24 oz',\n",
       "  470.0),\n",
       " ('Mocha Frappuccino Blended Coffee w/ Whipped Cream, Venti, 24 oz', 490.0),\n",
       " ('Peppermint Mocha Frappuccino Blended Beverage w/ Whole Milk & Whipped Cream, 24 oz',\n",
       "  560.0),\n",
       " ('Peppermint Mocha Frappuccino Blended Beverage w/ Nonfat Milk & Whipped Cream, 24 oz',\n",
       "  520.0),\n",
       " ('Mocha Frappuccino Blended Coffee, Venti, 24 oz', 370.0),\n",
       " ('Peppermint Mocha Frappuccino Blended Creme w/ 2% Milk & Whipped Cream, Grande, 16 oz',\n",
       "  390.0),\n",
       " ('White Chocolate Mocha Frappuccino Blended Coffee w/ Almond Milk, Venti, 24 oz',\n",
       "  360.0),\n",
       " ('Mocha Frappuccino Blended Coffee w/ Nonfat Milk, Tall', 190.0),\n",
       " ('Peppermint Mocha Frappuccino Blended Creme w/ Coconut Milk, Grande', 240.0),\n",
       " ('Peppermint Mocha Frappuccino Blended Creme w/ USA Soy Milk & Whipped Cream, 24 oz',\n",
       "  480.0),\n",
       " ('White Chocolate Mocha Frappuccino Blended Coffee w/ Soy Milk & Whipped Cream, Grande',\n",
       "  410.0),\n",
       " ('White Chocolate Mocha Frappuccino Blended Coffee w/ Coconut & Whipped Cream, Grande',\n",
       "  390.0),\n",
       " ('Mocha Frappuccino Blended Coffee w/ Whipped Cream, Tall, 12 oz', 270.0),\n",
       " ('Peppermint White Chocolate Mocha Frappuccino Blended Creme w/ 2% Milk, Grande, 16 oz',\n",
       "  360.0),\n",
       " ('Mocha Frappuccino Blended Coffee w/ 2% Milk, Tall', 200.0),\n",
       " ('Peppermint White Chocolate Mocha Frappuccino Blended Creme w/ Almond Milk, Tall, 12 oz',\n",
       "  230.0),\n",
       " ('White Chocolate Mocha Frappuccino Blended Coffee w/ Nonfat Milk & Whipped Cream, Venti Iced',\n",
       "  490.0),\n",
       " ('Peppermint Mocha Frappuccino Blended Beverage, Venti Iced', 400.0),\n",
       " ('Mocha Frappuccino Blended Coffee, Tall, 12 oz', 190.0),\n",
       " ('Mocha Frappuccino Blended Coffee w/ Soy Milk, Venti Iced', 390.0),\n",
       " ('Peppermint Mocha Frappuccino Blended Beverage w/ Whipped Cream, Venti, 24 oz',\n",
       "  530.0),\n",
       " ('Mocha Frappuccino Blended Coffee w/ Nonfat Milk & Whipped Cream, Tall',\n",
       "  270.0),\n",
       " ('Peppermint Mocha Frappuccino Blended Creme w/ 2% Milk & Whipped Cream, 24 oz',\n",
       "  480.0),\n",
       " ('Mocha Frappuccino Blended Coffee w/ Coconut & Whipped Cream, Venti Iced',\n",
       "  470.0),\n",
       " ('Mocha Frappuccino Blended Coffee w/ Soy Milk & Whipped Cream, Tall', 280.0),\n",
       " ('Mocha Frappuccino Blended Coffee w/ Whole Milk & Whipped Cream, Venti Iced',\n",
       "  520.0),\n",
       " ('Peppermint Mocha Frappuccino Blended Creme w/ Almond Milk, Grande, 16 oz',\n",
       "  230.0),\n",
       " ('Mocha Frappuccino Blended Coffee w/ Almond Milk, Grande', 260.0),\n",
       " ('Peppermint White Chocolate Mocha Frappuccino Blended Creme w/ Nonfat Milk & Whipped Cream, Venti, 24 oz',\n",
       "  550.0),\n",
       " ('Peppermint Mocha Frappuccino Blended Creme w/ Whole Milk & Whipped Cream, Grande',\n",
       "  410.0),\n",
       " ('Peppermint White Chocolate Mocha Frappuccino Blended Creme w/ Coconut Milk, Grande, 16 oz',\n",
       "  340.0),\n",
       " ('Peppermint Mocha Frappuccino Blended Beverage w/ Almond Milk & Whipped Cream, 24 oz',\n",
       "  500.0),\n",
       " ('Mocha Frappuccino Blended Coffee w/ 2% Milk & Whipped Cream, Venti Iced',\n",
       "  500.0),\n",
       " ('Mocha Frappuccino Blended Coffee w/ Coconut & Whipped Cream, Grande',\n",
       "  390.0),\n",
       " ('Mocha Frappuccino Blended Coffee w/ Whole Milk, Venti Iced', 400.0),\n",
       " ('White Chocolate Mocha Frappuccino Blended Coffee w/ 2% Milk, Venti Iced',\n",
       "  400.0),\n",
       " ('Peppermint Mocha Frappuccino Blended Creme w/ Soy Milk & Whipped Cream, Grande',\n",
       "  390.0),\n",
       " ('White Chocolate Mocha Frappuccino Blended Coffee w/ Coconut, Grande',\n",
       "  280.0),\n",
       " ('Peppermint Mocha Frappuccino Blended Creme w/ Almond Milk & Whipped Cream, Grande, 16 oz',\n",
       "  360.0),\n",
       " ('Mocha Frappuccino Blended Coffee w/ 2% Milk, Venti Iced', 390.0),\n",
       " ('White Chocolate Mocha Frappuccino Blended Coffee w/ Coconut & Whipped Cream, Venti Iced',\n",
       "  490.0),\n",
       " ('Mocha Frappuccino Blended Coffee w/ Whole Milk, Tall', 210.0),\n",
       " ('Peppermint Mocha Frappuccino Blended Beverage w/ Nonfat Milk & Whipped Cream, Tall',\n",
       "  300.0),\n",
       " ('Peppermint Mocha Frappuccino Blended Creme w/ Almond Milk & Whipped Cream, Tall',\n",
       "  250.0),\n",
       " ('Peppermint Mocha Frappuccino Blended Beverage w/ Nonfat Milk, Grande',\n",
       "  280.0),\n",
       " ('White Chocolate Mocha Frappuccino Blended Coffee w/ Soy Milk, Grande',\n",
       "  300.0),\n",
       " ('Mocha Frappuccino Blended Coffee w/ Soy Milk & Whipped Cream, Grande',\n",
       "  400.0),\n",
       " ('Mocha Frappuccino Blended Coffee w/ Almond Milk & Whipped Cream, Grande, 16 oz',\n",
       "  370.0),\n",
       " ('Peppermint Mocha Frappuccino Blended Beverage w/ Coconut Milk, Tall',\n",
       "  210.0),\n",
       " ('White Chocolate Mocha Frappuccino Blended Coffee w/ Whole Milk, Tall',\n",
       "  210.0),\n",
       " ('Peppermint Mocha Frappuccino Blended Beverage w/ Nonfat Milk & Whipped Cream, 16 oz',\n",
       "  410.0),\n",
       " ('Mocha Frappuccino Blended Coffee w/ 2% Milk, Grande', 290.0),\n",
       " ('Starbucks Bottled Mocha Frappuccino Coffee Drink', 300.0),\n",
       " ('Peppermint White Chocolate Mocha Frappuccino Blended Beverage w/ Whole Milk & Whipped Cream, 16 oz',\n",
       "  480.0),\n",
       " ('Peppermint Mocha Frappuccino Blended Creme w/ Whole Milk, Venti, 24 oz',\n",
       "  370.0),\n",
       " ('Peppermint Mocha Frappuccino Blended Beverage w/ Whole Milk, 24 oz', 440.0),\n",
       " ('Peppermint Mocha Frappuccino Blended Beverage w/ Whole Milk & Whipped Cream, Tall',\n",
       "  330.0),\n",
       " ('Peppermint White Chocolate Mocha Frappuccino Blended Creme w/ 2% Milk & Whipped Cream, Venti, 24 oz',\n",
       "  580.0),\n",
       " ('Peppermint Mocha Frappuccino Blended Beverage, Grande, 16 oz', 290.0),\n",
       " ('Mocha Frappuccino Blended Coffee w/ Nonfat Milk, Venti Iced', 360.0),\n",
       " ('Peppermint Mocha Frappuccino Blended Creme w/ Almond Milk, Venti, 24 oz',\n",
       "  300.0),\n",
       " ('Peppermint Mocha Frappuccino Blended Creme w/ Whole Milk, Tall, 12 oz',\n",
       "  200.0),\n",
       " ('Peppermint Mocha Frappuccino Blended Beverage w/ Almond Milk, Tall', 200.0),\n",
       " ('Mocha Frappuccino Blended Coffee w/ Soy Milk, Tall', 200.0),\n",
       " ('White Chocolate Mocha Frappuccino Blended Coffee w/ Almond Milk & Whipped Cream, 12 oz',\n",
       "  270.0),\n",
       " ('White Chocolate Mocha Frappuccino Blended Coffee w/ Coconut & Whipped Cream, Tall',\n",
       "  270.0),\n",
       " ('Peppermint Mocha Frappuccino Blended Creme w/ Almond Milk, Tall', 160.0),\n",
       " ('Peppermint White Chocolate Mocha Frappuccino Blended Beverage w/ Whole Milk & Whipped Cream, Tall',\n",
       "  340.0),\n",
       " ('Peppermint Mocha Frappuccino Blended Creme w/ Coconut Milk & Whipped Cream, Venti, 24 oz',\n",
       "  440.0),\n",
       " ('White Chocolate Mocha Frappuccino Blended Coffee w/ Coconut, Tall', 190.0),\n",
       " ('Peppermint White Chocolate Mocha Frappuccino Blended Creme w/ Whole Milk, Venti, 24 oz',\n",
       "  480.0),\n",
       " ('White Chocolate Mocha Frappuccino Blended Coffee w/ 2% Milk & Whipped Cream, Tall',\n",
       "  290.0),\n",
       " ('Peppermint Mocha Frappuccino Blended Beverage w/ 2% Milk, Tall', 230.0),\n",
       " ('Peppermint Mocha Frappuccino Blended Creme w/ Coconut Milk & Whipped Cream, Grande',\n",
       "  370.0),\n",
       " ('Peppermint Mocha Frappuccino Blended Beverage w/ Soy Milk USA & Whipped Cream, 12 oz',\n",
       "  320.0),\n",
       " ('Peppermint White Chocolate Mocha Frappuccino Blended Creme w/ Almond Milk & Whipped Cream, Tall, 12 oz',\n",
       "  310.0),\n",
       " ('Peppermint Mocha Frappuccino Blended Beverage w/ 2% Milk, Tall, 12 oz',\n",
       "  190.0),\n",
       " ('Peppermint Mocha Frappuccino Blended Creme w/ Coconut Milk & Whipped Cream, 12 oz',\n",
       "  260.0),\n",
       " ('White Chocolate Mocha Frappuccino Blended Coffee w/ Coconut, Venti Iced',\n",
       "  380.0),\n",
       " ('Peppermint White Chocolate Mocha Frappuccino Blended Creme w/ Soy Milk, Venti, 24 oz',\n",
       "  460.0),\n",
       " ('Peppermint Mocha Frappuccino Blended Beverage w/ 2% Milk & Whipped Cream, Venti, 24 oz',\n",
       "  540.0),\n",
       " ('Peppermint White Chocolate Mocha Frappuccino Blended Creme w/ 2% Milk & Whipped Cream, Grande, 16 oz',\n",
       "  470.0),\n",
       " ('Mocha Frappuccino Blended Coffee, Grande, 16 oz', 280.0),\n",
       " ('White Chocolate Mocha Frappuccino Blended Coffee w/ Almond Milk, Grande, 16 oz',\n",
       "  270.0),\n",
       " ('Peppermint White Chocolate Mocha Frappuccino Blended Beverage w/ USA Soy Milk & Whipped Cream, 16.00',\n",
       "  480.0),\n",
       " ('Mocha Frappuccino Blended Coffee w/ Coconut, Tall', 190.0),\n",
       " ('Peppermint White Chocolate Mocha Frappuccino Blended Beverage w/ Almond Milk, Grande',\n",
       "  330.0),\n",
       " ('White Chocolate Mocha Frappuccino Blended Coffee w/ Nonfat Milk, Grande',\n",
       "  280.0),\n",
       " ('Peppermint Mocha Frappuccino Blended Beverage w/ Almond Milk & Whipped Cream, Grande',\n",
       "  400.0),\n",
       " ('Peppermint Mocha Frappuccino Blended Creme w/ Nonfat Milk & Whipped Cream, Tall',\n",
       "  260.0),\n",
       " ('Peppermint Mocha Frappuccino Blended Creme w/ Whole Milk, Grande, 16 oz',\n",
       "  280.0),\n",
       " ('Mocha Frappuccino Blended Coffee w/ Nonfat Milk & Whipped Cream, Venti Iced',\n",
       "  480.0),\n",
       " ('Mocha Frappuccino Blended Coffee w/ Coconut, Grande', 270.0),\n",
       " ('Peppermint Mocha Frappuccino Blended Beverage w/ Whole Milk & Whipped Cream, Grande, 16 oz',\n",
       "  430.0),\n",
       " ('Peppermint Mocha Frappuccino Blended Beverage w/ 2% Milk, Venti Iced',\n",
       "  420.0),\n",
       " ('Peppermint Mocha Frappuccino Blended Beverage w/ Nonfat Milk, 12 oz',\n",
       "  210.0),\n",
       " ('Peppermint Mocha Frappuccino Blended Beverage w/ 2% Milk, Grande, 16 oz',\n",
       "  300.0),\n",
       " ('Peppermint Mocha Frappuccino Blended Beverage w/ Whole Milk, Tall', 240.0),\n",
       " ('Mocha Frappuccino Blended Coffee w/ Almond Milk & Whipped Cream, Tall, 12 oz',\n",
       "  260.0),\n",
       " ('Peppermint White Chocolate Mocha Frappuccino Blended Beverage w/ Nonfat Milk & Whipped Cream, 16 oz',\n",
       "  460.0),\n",
       " ('White Chocolate Mocha Frappuccino Blended Coffee w/ 2% Milk, Tall', 210.0),\n",
       " ('Peppermint Mocha Frappuccino Blended Beverage w/ Coconut Milk, 16 oz',\n",
       "  280.0),\n",
       " ('Mocha Frappuccino Blended Coffee w/ Almond Milk & Whipped Cream, Venti Iced',\n",
       "  460.0),\n",
       " ('White Chocolate Mocha Frappuccino Blended Coffee w/ Whole Milk & Whipped Cream, Tall',\n",
       "  300.0),\n",
       " ('Peppermint White Chocolate Mocha Frappuccino Blended Beverage w/ Coconut Milk, 12 oz',\n",
       "  230.0),\n",
       " ('White Chocolate Mocha Frappuccino Blended Coffee w/ Nonfat Milk & Whipped Cream, Tall',\n",
       "  270.0),\n",
       " ('Peppermint White Chocolate Mocha Frappuccino Blended Creme w/ Soy Milk, Tall, 12 oz',\n",
       "  250.0),\n",
       " ('Mocha Frappuccino Blended Coffee w/ Almond Milk, Tall, 12 oz', 180.0),\n",
       " ('Peppermint Mocha Frappuccino Blended Creme w/ Coconut Milk, Venti, 24 oz',\n",
       "  320.0),\n",
       " ('Peppermint Mocha Frappuccino Blended Beverage w/ Nonfat Milk, 24 oz',\n",
       "  390.0),\n",
       " ('Peppermint White Chocolate Mocha Frappuccino Blended Creme w/ Coconut Milk, Venti, 24 oz',\n",
       "  440.0),\n",
       " ('Peppermint Mocha Frappuccino Blended Beverage w/ Coconut Milk & Whipped Cream, Tall',\n",
       "  300.0),\n",
       " ('Peppermint White Chocolate Mocha Frappuccino Blended Beverage w/ Nonfat Milk, 16 oz',\n",
       "  350.0),\n",
       " ('Peppermint White Chocolate Mocha Frappuccino Blended Creme w/ Almond Milk & Whipped Cream, Grande, 16 oz',\n",
       "  450.0),\n",
       " ('Peppermint White Chocolate Mocha Frappuccino Blended Creme w/ Almond Milk, Venti, 24 oz',\n",
       "  420.0),\n",
       " ('Mocha Frappuccino Blended Coffee w/ 2% Milk & Whipped Cream, Tall', 280.0),\n",
       " ('Peppermint Mocha Frappuccino Blended Beverage w/ Whipped Cream, Tall, 12 oz',\n",
       "  310.0),\n",
       " ('White Chocolate Mocha Frappuccino Blended Coffee w/ Nonfat Milk & Whipped Cream, Grande',\n",
       "  390.0),\n",
       " ('Peppermint Mocha Frappuccino Blended Creme w/ Whole Milk & Whipped Cream, Tall, 12 oz',\n",
       "  290.0),\n",
       " ('Peppermint Mocha Frappuccino Blended Creme w/ 2% Milk, Venti, 24 oz',\n",
       "  350.0)]"
      ]
     },
     "execution_count": 28,
     "metadata": {},
     "output_type": "execute_result"
    }
   ],
   "source": [
    "choice_lst"
   ]
  },
  {
   "cell_type": "markdown",
   "metadata": {},
   "source": [
    "# Top 5 recommendations:"
   ]
  },
  {
   "cell_type": "code",
   "execution_count": 29,
   "metadata": {},
   "outputs": [
    {
     "data": {
      "text/plain": [
       "[('Peppermint Mocha Frappuccino Blended Creme w/ Almond Milk, Tall', 160.0),\n",
       " ('Peppermint Mocha Frappuccino Blended Creme w/ Nonfat Milk, Tall, 12 oz',\n",
       "  170.0),\n",
       " ('Mocha Frappuccino Blended Coffee w/ Almond Milk, Tall, 12 oz', 180.0),\n",
       " ('White Chocolate Mocha Frappuccino Blended Coffee w/ Almond Milk, Tall, 12 oz',\n",
       "  190.0),\n",
       " ('White Chocolate Mocha Frappuccino Blended Coffee w/ Nonfat Milk, Tall',\n",
       "  190.0)]"
      ]
     },
     "execution_count": 29,
     "metadata": {},
     "output_type": "execute_result"
    }
   ],
   "source": [
    "sorted(choice_lst, key=lambda tup: tup[1])[:5]"
   ]
  },
  {
   "cell_type": "code",
   "execution_count": null,
   "metadata": {
    "collapsed": true
   },
   "outputs": [],
   "source": []
  }
 ],
 "metadata": {
  "kernelspec": {
   "display_name": "Python 3",
   "language": "python",
   "name": "python3"
  },
  "language_info": {
   "codemirror_mode": {
    "name": "ipython",
    "version": 3
   },
   "file_extension": ".py",
   "mimetype": "text/x-python",
   "name": "python",
   "nbconvert_exporter": "python",
   "pygments_lexer": "ipython3",
   "version": "3.5.2"
  }
 },
 "nbformat": 4,
 "nbformat_minor": 2
}
